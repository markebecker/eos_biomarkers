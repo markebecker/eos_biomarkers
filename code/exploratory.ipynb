{
 "cells": [
  {
   "cell_type": "code",
   "execution_count": 1,
   "id": "b0a63d1b-5f96-4d2f-9d22-817c43504284",
   "metadata": {},
   "outputs": [],
   "source": [
    "# set your working directory\n",
    "import os\n",
    "os.getcwd()\n",
    "os.chdir('C:/Users/Mark/Documents/GitHub/eos_biomarkers/')"
   ]
  },
  {
   "cell_type": "code",
   "execution_count": 2,
   "id": "25f5fb8e-77d7-4008-8ec7-44bb3b2f934c",
   "metadata": {},
   "outputs": [],
   "source": [
    "# import packages\n",
    "\n",
    "# general math, stats, dataframe handling\n",
    "import pandas as pd\n",
    "import numpy as np\n",
    "from scipy import stats\n",
    "from statsmodels.stats.multitest import multipletests\n",
    "import random\n",
    "\n",
    "# plotting\n",
    "import matplotlib.pyplot as plt\n",
    "import seaborn as sns\n",
    "\n",
    "# imputation, random forests things\n",
    "from itertools import compress\n",
    "from sklearn.decomposition import PCA\n",
    "from sklearn.experimental import enable_iterative_imputer\n",
    "from sklearn.impute import IterativeImputer\n",
    "from sklearn.model_selection import StratifiedShuffleSplit\n",
    "from sklearn.model_selection import GridSearchCV\n",
    "from sklearn.linear_model import LogisticRegression\n",
    "from sklearn.metrics import roc_curve\n",
    "from sklearn.metrics import roc_auc_score\n",
    "from sklearn.metrics import f1_score,confusion_matrix\n",
    "import sklearn.metrics as metrics\n",
    "\n",
    "import warnings\n",
    "warnings.filterwarnings(\"ignore\")\n",
    "\n",
    "# data:\n",
    "df = pd.read_csv(\"data/allbatchesclin.csv\") # normalized ms data for each protein for each sample w/ log2 abundance\n",
    "new_df = pd.read_csv('data/leena_proteins_mean2023_nu037fix.csv', index_col = 0) # reshaped dataframe w/ rows for each sample & cols for each protein + some clinical variables\n",
    "# ^ this differs from the one generated in the code; correct sex info was manually added for nu037.\n",
    "psmetadata = pd.read_csv('data/ps_metadata_cut.csv') # metadata for each sample\n",
    "# this differs from ps_metadata.csv in that 1. it lacks chart notes and 2. BP484 & NU125 have been recoded to 1 for prom\n",
    "mesoscale = pd.read_excel('data/cord_mesoscaledata_12_9_22.xlsx', engine='openpyxl')\n"
   ]
  },
  {
   "cell_type": "code",
   "execution_count": 3,
   "id": "07660b6a-a45d-46a0-b6f6-29d5a635867b",
   "metadata": {},
   "outputs": [],
   "source": [
    "#incorporating sex into the analysis\n",
    "merge_df = df.loc[:,['sex','sample_id']]\n",
    "merge_df = merge_df.drop_duplicates()\n",
    "new_df['sample_id'] = new_df.index\n",
    "new_df = pd.merge(new_df, merge_df, how = 'left', on = 'sample_id')\n"
   ]
  },
  {
   "cell_type": "code",
   "execution_count": 4,
   "id": "76125d7f-1b24-4279-b6d4-08b635816fc2",
   "metadata": {},
   "outputs": [
    {
     "name": "stdout",
     "output_type": "stream",
     "text": [
      "          ALB  HP;HPR   SERPINA1        A2M      IGHG1      IGHG2  IGHG3  \\\n",
      "95  31.732363     NaN  28.198313  27.536863  27.768313  22.924263    NaN   \n",
      "96  31.732363     NaN  28.198313  27.536863  27.768313  22.924263    NaN   \n",
      "\n",
      "        APOA1        FGA  FGB  ...  PSME2  CORO1C  CLIC4;CLIC2;CLIC5;CLIC6  \\\n",
      "95  31.524213  25.201763  NaN  ...    NaN     NaN                      NaN   \n",
      "96  31.524213  25.201763  NaN  ...    NaN     NaN                      NaN   \n",
      "\n",
      "    ga_cat  epoch  sample_type  GA_wks  batch  sample_id   sex  \n",
      "95    >=37      4      Control   37.29      2      NU037   NaN  \n",
      "96    >=37      4      Control   37.29      2      NU037  Male  \n",
      "\n",
      "[2 rows x 444 columns]\n"
     ]
    }
   ],
   "source": [
    "print(new_df[new_df['sample_id'] == 'NU037'])\n",
    "# NU037 has data for sex, gestational age, etc, in ps_metadata.csv but not in allbatchesclin.csv or in the file that becomes new_df\n",
    "# I manually copied the data from ps_metadata.csv into the file that becomes new_df, but it's too laborious to fix allbatchesclin\n",
    "# so it needs manual removal since the discrepancy duplicates it.\n",
    "new_df = new_df.drop(new_df[(new_df['sample_id'] == 'NU037') & (new_df['sex'].isna())].index, axis=0)"
   ]
  },
  {
   "cell_type": "code",
   "execution_count": 5,
   "id": "81918c71-aa5f-4961-b64a-762eadac2f59",
   "metadata": {},
   "outputs": [],
   "source": [
    "#removing all the controls and presumed sepsis patients\n",
    "#new_df = new_df[new_df['sample_type'] != 'PS_nonclassicEOS']\n",
    "new_df = new_df[new_df['sample_type'] != 'nonclassicEOS']\n",
    "new_df = new_df[new_df['sample_type'] != 'Control + degradation assessment sample']\n",
    "new_df = new_df[new_df['sample_type'] != 'pooled_control']\n",
    "#new_df = new_df[new_df['sample_type'] != 'PS']"
   ]
  },
  {
   "cell_type": "code",
   "execution_count": 6,
   "id": "800e779d-8203-4c07-b78f-7de161668c4b",
   "metadata": {},
   "outputs": [],
   "source": [
    "#removing proteins that have over 80% missingness\n",
    "tmp = new_df.isnull().sum()/new_df.shape[0]\n",
    "new_df =  new_df.drop(tmp[tmp>0.80].index, axis = 1)"
   ]
  },
  {
   "cell_type": "code",
   "execution_count": 7,
   "id": "205e3e92-4621-4f53-b307-7048f2d666a7",
   "metadata": {},
   "outputs": [],
   "source": [
    "# imputing values for heatmap visualizations (which do not play nice with NAs)\n",
    "# first: for proteins with less than 30% missingness, use an iterative imputer by sample type\n",
    "# then: for proteins with greater missingness, just sample from the bottom 10% of values\n",
    "# the rationale for this approach is that since most missing proteins arose from batch effects,\n",
    "#   and the batches are 25% each, so proteins with >25-30% missingness are most likely truly non-abundant\n",
    "#   rather than just not detected in a given batch.\n",
    "new_df_imp = new_df.copy() #copy it\n",
    "imputeddf = pd.DataFrame() # this is to save just the imputed things\n",
    "imp = IterativeImputer(max_iter=10, random_state=0) #define iterative imputer funxion\n",
    "\n",
    "#for st in ['EOS','Control','PS']:\n",
    "for st in ['EOS','Control']: #do the following for each sample type:\n",
    "    tmp = new_df[new_df['sample_type'] == st] #store in tmp only the rows in new_df that have the current sample type\n",
    "    vals =  tmp.iloc[:, :-7] # grab all cols except the last seven! which are metadata.\n",
    "    missing = vals.isnull().sum()/vals.shape[0] #for each column, what % are missing?\n",
    "    keep = missing[missing<0.3].index # names of columns (proteins) where they mostly aren't missing.\n",
    "    vals_imp = imp.fit_transform(vals.loc[:,keep]) # for the proteins in keep, impute\n",
    "    vals_imp = pd.DataFrame(vals_imp, index = vals.index, columns = keep) #make it a dataframe\n",
    "    new_df_imp.loc[vals_imp.index, vals_imp.columns] = vals_imp\n",
    "    imputeddf = pd.concat([imputeddf, vals_imp]) # save just the imputed things\n",
    "imputed_labels = new_df.loc[new_df_imp.index, 'sample_type']\n",
    "imputed_sampleid = new_df.loc[new_df_imp.index, 'sample_id']\n",
    "\n",
    "#imputing missing values by sampling from bottom 10% of values per protein for proteins not previously dealt with\n",
    "for prot in new_df.columns[:-7]:\n",
    "    if not new_df[prot].isnull().any(): \n",
    "        continue \n",
    "    quantile = new_df[prot].quantile(0.05)\n",
    "    min_val = new_df[new_df[prot]<quantile][prot].min()\n",
    "    max_val = new_df[new_df[prot]<quantile][prot].max()\n",
    "    for idx in new_df_imp[new_df_imp[prot].isnull()][prot].index:\n",
    "        sample = random.uniform(min_val, max_val) #bottom 10% \n",
    "        #sample = 0\n",
    "        new_df_imp.at[idx,prot] = sample\n",
    "        imputeddf.at[idx,prot] = sample"
   ]
  },
  {
   "cell_type": "code",
   "execution_count": 9,
   "id": "ba193a63-6c4c-4455-b4c9-6487a41810a1",
   "metadata": {},
   "outputs": [],
   "source": [
    "# make a df with NAs imputed with zeros, to show how much/what is getting imputed\n",
    "new_df_zimp = new_df.copy() #copy it \n",
    "\n",
    "for prot in new_df.columns[0:-7]:\n",
    "    for idx in new_df[new_df[prot].isnull()][prot].index:\n",
    "        new_df_zimp.at[idx,prot] = 0"
   ]
  },
  {
   "cell_type": "code",
   "execution_count": 10,
   "id": "b84457ec-b9f3-4050-91f3-5696c0069b54",
   "metadata": {},
   "outputs": [],
   "source": [
    "# remove problematic bits. columns with unexpected strings + NAs\n",
    "tmp = new_df_imp.isna().sum()\n",
    "#imp_clean =  new_df_imp.drop(tmp[tmp>0].index, axis = 1).drop(columns=['sample_id', 'Unnamed: 0'])\n",
    "imp_clean =  new_df_imp.drop(tmp[tmp>0].index, axis = 1).drop(columns=['sample_id'])"
   ]
  },
  {
   "cell_type": "code",
   "execution_count": 16,
   "id": "819c7fa1-5629-46d5-8309-03690c67217d",
   "metadata": {},
   "outputs": [
    {
     "ename": "ValueError",
     "evalue": "Invalid RGBA argument: nan",
     "output_type": "error",
     "traceback": [
      "\u001b[1;31m---------------------------------------------------------------------------\u001b[0m",
      "\u001b[1;31mValueError\u001b[0m                                Traceback (most recent call last)",
      "File \u001b[1;32m~\\anaconda3\\envs\\sepsis\\Lib\\site-packages\\seaborn\\matrix.py:52\u001b[0m, in \u001b[0;36m_convert_colors\u001b[1;34m(colors)\u001b[0m\n\u001b[0;32m     51\u001b[0m \u001b[38;5;28;01mtry\u001b[39;00m:\n\u001b[1;32m---> 52\u001b[0m     to_rgb(colors[\u001b[38;5;241m0\u001b[39m])\n\u001b[0;32m     53\u001b[0m     \u001b[38;5;66;03m# If this works, there is only one level of colors\u001b[39;00m\n",
      "File \u001b[1;32m~\\anaconda3\\envs\\sepsis\\Lib\\site-packages\\matplotlib\\colors.py:526\u001b[0m, in \u001b[0;36mto_rgb\u001b[1;34m(c)\u001b[0m\n\u001b[0;32m    525\u001b[0m \u001b[38;5;250m\u001b[39m\u001b[38;5;124;03m\"\"\"Convert *c* to an RGB color, silently dropping the alpha channel.\"\"\"\u001b[39;00m\n\u001b[1;32m--> 526\u001b[0m \u001b[38;5;28;01mreturn\u001b[39;00m to_rgba(c)[:\u001b[38;5;241m3\u001b[39m]\n",
      "File \u001b[1;32m~\\anaconda3\\envs\\sepsis\\Lib\\site-packages\\matplotlib\\colors.py:314\u001b[0m, in \u001b[0;36mto_rgba\u001b[1;34m(c, alpha)\u001b[0m\n\u001b[0;32m    313\u001b[0m \u001b[38;5;28;01mif\u001b[39;00m rgba \u001b[38;5;129;01mis\u001b[39;00m \u001b[38;5;28;01mNone\u001b[39;00m:  \u001b[38;5;66;03m# Suppress exception chaining of cache lookup failure.\u001b[39;00m\n\u001b[1;32m--> 314\u001b[0m     rgba \u001b[38;5;241m=\u001b[39m _to_rgba_no_colorcycle(c, alpha)\n\u001b[0;32m    315\u001b[0m     \u001b[38;5;28;01mtry\u001b[39;00m:\n",
      "File \u001b[1;32m~\\anaconda3\\envs\\sepsis\\Lib\\site-packages\\matplotlib\\colors.py:400\u001b[0m, in \u001b[0;36m_to_rgba_no_colorcycle\u001b[1;34m(c, alpha)\u001b[0m\n\u001b[0;32m    399\u001b[0m \u001b[38;5;28;01mif\u001b[39;00m \u001b[38;5;28mlen\u001b[39m(c) \u001b[38;5;129;01mnot\u001b[39;00m \u001b[38;5;129;01min\u001b[39;00m [\u001b[38;5;241m3\u001b[39m, \u001b[38;5;241m4\u001b[39m]:\n\u001b[1;32m--> 400\u001b[0m     \u001b[38;5;28;01mraise\u001b[39;00m \u001b[38;5;167;01mValueError\u001b[39;00m(\u001b[38;5;124m\"\u001b[39m\u001b[38;5;124mRGBA sequence should have length 3 or 4\u001b[39m\u001b[38;5;124m\"\u001b[39m)\n\u001b[0;32m    401\u001b[0m \u001b[38;5;28;01mif\u001b[39;00m \u001b[38;5;129;01mnot\u001b[39;00m \u001b[38;5;28mall\u001b[39m(\u001b[38;5;28misinstance\u001b[39m(x, Real) \u001b[38;5;28;01mfor\u001b[39;00m x \u001b[38;5;129;01min\u001b[39;00m c):\n\u001b[0;32m    402\u001b[0m     \u001b[38;5;66;03m# Checks that don't work: `map(float, ...)`, `np.array(..., float)` and\u001b[39;00m\n\u001b[0;32m    403\u001b[0m     \u001b[38;5;66;03m# `np.array(...).astype(float)` would all convert \"0.5\" to 0.5.\u001b[39;00m\n",
      "\u001b[1;31mValueError\u001b[0m: RGBA sequence should have length 3 or 4",
      "\nDuring handling of the above exception, another exception occurred:\n",
      "\u001b[1;31mValueError\u001b[0m                                Traceback (most recent call last)",
      "Cell \u001b[1;32mIn[16], line 16\u001b[0m\n\u001b[0;32m     13\u001b[0m sns\u001b[38;5;241m.\u001b[39mset(font_scale\u001b[38;5;241m=\u001b[39m\u001b[38;5;241m2\u001b[39m)\n\u001b[0;32m     14\u001b[0m testt \u001b[38;5;241m=\u001b[39m sns\u001b[38;5;241m.\u001b[39mcubehelix_palette(start \u001b[38;5;241m=\u001b[39m\u001b[38;5;241m-\u001b[39m\u001b[38;5;241m0.3\u001b[39m, rot\u001b[38;5;241m=\u001b[39m\u001b[38;5;241m0.5\u001b[39m, as_cmap\u001b[38;5;241m=\u001b[39m\u001b[38;5;28;01mTrue\u001b[39;00m, reverse\u001b[38;5;241m=\u001b[39m\u001b[38;5;28;01mFalse\u001b[39;00m)\u001b[38;5;66;03m#0.3 for nice purp\u001b[39;00m\n\u001b[1;32m---> 16\u001b[0m sns\u001b[38;5;241m.\u001b[39mclustermap(imp_clean\u001b[38;5;241m.\u001b[39miloc[:,\u001b[38;5;241m0\u001b[39m:\u001b[38;5;241m-\u001b[39m\u001b[38;5;241m5\u001b[39m], cmap \u001b[38;5;241m=\u001b[39m testt, figsize \u001b[38;5;241m=\u001b[39m [\u001b[38;5;241m30\u001b[39m,\u001b[38;5;241m70\u001b[39m],yticklabels \u001b[38;5;241m=\u001b[39m \u001b[38;5;28;01mTrue\u001b[39;00m,col_cluster \u001b[38;5;241m=\u001b[39m \u001b[38;5;28;01mTrue\u001b[39;00m, row_colors\u001b[38;5;241m=\u001b[39m[row_colors_sample,pd\u001b[38;5;241m.\u001b[39mSeries(row_colors_sex)\u001b[38;5;241m.\u001b[39mfillna(\u001b[38;5;124m'\u001b[39m\u001b[38;5;124mdimgray\u001b[39m\u001b[38;5;124m'\u001b[39m),pd\u001b[38;5;241m.\u001b[39mSeries(row_colors_ga)\u001b[38;5;241m.\u001b[39mfillna(\u001b[38;5;124m'\u001b[39m\u001b[38;5;124mdimgray\u001b[39m\u001b[38;5;124m'\u001b[39m)])\n\u001b[0;32m     17\u001b[0m \u001b[38;5;66;03m#plt.savefig('graphs/fig1_heatmap_imputed.eps', format = 'eps',bbox_inches = 'tight')\u001b[39;00m\n\u001b[0;32m     18\u001b[0m plt\u001b[38;5;241m.\u001b[39mshow()\n",
      "File \u001b[1;32m~\\anaconda3\\envs\\sepsis\\Lib\\site-packages\\seaborn\\matrix.py:1252\u001b[0m, in \u001b[0;36mclustermap\u001b[1;34m(data, pivot_kws, method, metric, z_score, standard_scale, figsize, cbar_kws, row_cluster, col_cluster, row_linkage, col_linkage, row_colors, col_colors, mask, dendrogram_ratio, colors_ratio, cbar_pos, tree_kws, **kwargs)\u001b[0m\n\u001b[0;32m   1249\u001b[0m \u001b[38;5;28;01mif\u001b[39;00m _no_scipy:\n\u001b[0;32m   1250\u001b[0m     \u001b[38;5;28;01mraise\u001b[39;00m \u001b[38;5;167;01mRuntimeError\u001b[39;00m(\u001b[38;5;124m\"\u001b[39m\u001b[38;5;124mclustermap requires scipy to be available\u001b[39m\u001b[38;5;124m\"\u001b[39m)\n\u001b[1;32m-> 1252\u001b[0m plotter \u001b[38;5;241m=\u001b[39m ClusterGrid(data, pivot_kws\u001b[38;5;241m=\u001b[39mpivot_kws, figsize\u001b[38;5;241m=\u001b[39mfigsize,\n\u001b[0;32m   1253\u001b[0m                       row_colors\u001b[38;5;241m=\u001b[39mrow_colors, col_colors\u001b[38;5;241m=\u001b[39mcol_colors,\n\u001b[0;32m   1254\u001b[0m                       z_score\u001b[38;5;241m=\u001b[39mz_score, standard_scale\u001b[38;5;241m=\u001b[39mstandard_scale,\n\u001b[0;32m   1255\u001b[0m                       mask\u001b[38;5;241m=\u001b[39mmask, dendrogram_ratio\u001b[38;5;241m=\u001b[39mdendrogram_ratio,\n\u001b[0;32m   1256\u001b[0m                       colors_ratio\u001b[38;5;241m=\u001b[39mcolors_ratio, cbar_pos\u001b[38;5;241m=\u001b[39mcbar_pos)\n\u001b[0;32m   1258\u001b[0m \u001b[38;5;28;01mreturn\u001b[39;00m plotter\u001b[38;5;241m.\u001b[39mplot(metric\u001b[38;5;241m=\u001b[39mmetric, method\u001b[38;5;241m=\u001b[39mmethod,\n\u001b[0;32m   1259\u001b[0m                     colorbar_kws\u001b[38;5;241m=\u001b[39mcbar_kws,\n\u001b[0;32m   1260\u001b[0m                     row_cluster\u001b[38;5;241m=\u001b[39mrow_cluster, col_cluster\u001b[38;5;241m=\u001b[39mcol_cluster,\n\u001b[0;32m   1261\u001b[0m                     row_linkage\u001b[38;5;241m=\u001b[39mrow_linkage, col_linkage\u001b[38;5;241m=\u001b[39mcol_linkage,\n\u001b[0;32m   1262\u001b[0m                     tree_kws\u001b[38;5;241m=\u001b[39mtree_kws, \u001b[38;5;241m*\u001b[39m\u001b[38;5;241m*\u001b[39mkwargs)\n",
      "File \u001b[1;32m~\\anaconda3\\envs\\sepsis\\Lib\\site-packages\\seaborn\\matrix.py:718\u001b[0m, in \u001b[0;36mClusterGrid.__init__\u001b[1;34m(self, data, pivot_kws, z_score, standard_scale, figsize, row_colors, col_colors, mask, dendrogram_ratio, colors_ratio, cbar_pos)\u001b[0m\n\u001b[0;32m    713\u001b[0m \u001b[38;5;28mself\u001b[39m\u001b[38;5;241m.\u001b[39mmask \u001b[38;5;241m=\u001b[39m _matrix_mask(\u001b[38;5;28mself\u001b[39m\u001b[38;5;241m.\u001b[39mdata2d, mask)\n\u001b[0;32m    715\u001b[0m \u001b[38;5;28mself\u001b[39m\u001b[38;5;241m.\u001b[39m_figure \u001b[38;5;241m=\u001b[39m plt\u001b[38;5;241m.\u001b[39mfigure(figsize\u001b[38;5;241m=\u001b[39mfigsize)\n\u001b[0;32m    717\u001b[0m \u001b[38;5;28mself\u001b[39m\u001b[38;5;241m.\u001b[39mrow_colors, \u001b[38;5;28mself\u001b[39m\u001b[38;5;241m.\u001b[39mrow_color_labels \u001b[38;5;241m=\u001b[39m \\\n\u001b[1;32m--> 718\u001b[0m     \u001b[38;5;28mself\u001b[39m\u001b[38;5;241m.\u001b[39m_preprocess_colors(data, row_colors, axis\u001b[38;5;241m=\u001b[39m\u001b[38;5;241m0\u001b[39m)\n\u001b[0;32m    719\u001b[0m \u001b[38;5;28mself\u001b[39m\u001b[38;5;241m.\u001b[39mcol_colors, \u001b[38;5;28mself\u001b[39m\u001b[38;5;241m.\u001b[39mcol_color_labels \u001b[38;5;241m=\u001b[39m \\\n\u001b[0;32m    720\u001b[0m     \u001b[38;5;28mself\u001b[39m\u001b[38;5;241m.\u001b[39m_preprocess_colors(data, col_colors, axis\u001b[38;5;241m=\u001b[39m\u001b[38;5;241m1\u001b[39m)\n\u001b[0;32m    722\u001b[0m \u001b[38;5;28;01mtry\u001b[39;00m:\n",
      "File \u001b[1;32m~\\anaconda3\\envs\\sepsis\\Lib\\site-packages\\seaborn\\matrix.py:812\u001b[0m, in \u001b[0;36mClusterGrid._preprocess_colors\u001b[1;34m(self, data, colors, axis)\u001b[0m\n\u001b[0;32m    809\u001b[0m                 labels \u001b[38;5;241m=\u001b[39m [colors\u001b[38;5;241m.\u001b[39mname]\n\u001b[0;32m    810\u001b[0m             colors \u001b[38;5;241m=\u001b[39m colors\u001b[38;5;241m.\u001b[39mvalues\n\u001b[1;32m--> 812\u001b[0m     colors \u001b[38;5;241m=\u001b[39m _convert_colors(colors)\n\u001b[0;32m    814\u001b[0m \u001b[38;5;28;01mreturn\u001b[39;00m colors, labels\n",
      "File \u001b[1;32m~\\anaconda3\\envs\\sepsis\\Lib\\site-packages\\seaborn\\matrix.py:57\u001b[0m, in \u001b[0;36m_convert_colors\u001b[1;34m(colors)\u001b[0m\n\u001b[0;32m     54\u001b[0m     \u001b[38;5;28;01mreturn\u001b[39;00m \u001b[38;5;28mlist\u001b[39m(\u001b[38;5;28mmap\u001b[39m(to_rgb, colors))\n\u001b[0;32m     55\u001b[0m \u001b[38;5;28;01mexcept\u001b[39;00m \u001b[38;5;167;01mValueError\u001b[39;00m:\n\u001b[0;32m     56\u001b[0m     \u001b[38;5;66;03m# If we get here, we have nested lists\u001b[39;00m\n\u001b[1;32m---> 57\u001b[0m     \u001b[38;5;28;01mreturn\u001b[39;00m [\u001b[38;5;28mlist\u001b[39m(\u001b[38;5;28mmap\u001b[39m(to_rgb, color_list)) \u001b[38;5;28;01mfor\u001b[39;00m color_list \u001b[38;5;129;01min\u001b[39;00m colors]\n",
      "File \u001b[1;32m~\\anaconda3\\envs\\sepsis\\Lib\\site-packages\\matplotlib\\colors.py:526\u001b[0m, in \u001b[0;36mto_rgb\u001b[1;34m(c)\u001b[0m\n\u001b[0;32m    524\u001b[0m \u001b[38;5;28;01mdef\u001b[39;00m \u001b[38;5;21mto_rgb\u001b[39m(c):\n\u001b[0;32m    525\u001b[0m \u001b[38;5;250m    \u001b[39m\u001b[38;5;124;03m\"\"\"Convert *c* to an RGB color, silently dropping the alpha channel.\"\"\"\u001b[39;00m\n\u001b[1;32m--> 526\u001b[0m     \u001b[38;5;28;01mreturn\u001b[39;00m to_rgba(c)[:\u001b[38;5;241m3\u001b[39m]\n",
      "File \u001b[1;32m~\\anaconda3\\envs\\sepsis\\Lib\\site-packages\\matplotlib\\colors.py:314\u001b[0m, in \u001b[0;36mto_rgba\u001b[1;34m(c, alpha)\u001b[0m\n\u001b[0;32m    312\u001b[0m     rgba \u001b[38;5;241m=\u001b[39m \u001b[38;5;28;01mNone\u001b[39;00m\n\u001b[0;32m    313\u001b[0m \u001b[38;5;28;01mif\u001b[39;00m rgba \u001b[38;5;129;01mis\u001b[39;00m \u001b[38;5;28;01mNone\u001b[39;00m:  \u001b[38;5;66;03m# Suppress exception chaining of cache lookup failure.\u001b[39;00m\n\u001b[1;32m--> 314\u001b[0m     rgba \u001b[38;5;241m=\u001b[39m _to_rgba_no_colorcycle(c, alpha)\n\u001b[0;32m    315\u001b[0m     \u001b[38;5;28;01mtry\u001b[39;00m:\n\u001b[0;32m    316\u001b[0m         _colors_full_map\u001b[38;5;241m.\u001b[39mcache[c, alpha] \u001b[38;5;241m=\u001b[39m rgba\n",
      "File \u001b[1;32m~\\anaconda3\\envs\\sepsis\\Lib\\site-packages\\matplotlib\\colors.py:398\u001b[0m, in \u001b[0;36m_to_rgba_no_colorcycle\u001b[1;34m(c, alpha)\u001b[0m\n\u001b[0;32m    396\u001b[0m \u001b[38;5;66;03m# tuple color.\u001b[39;00m\n\u001b[0;32m    397\u001b[0m \u001b[38;5;28;01mif\u001b[39;00m \u001b[38;5;129;01mnot\u001b[39;00m np\u001b[38;5;241m.\u001b[39miterable(c):\n\u001b[1;32m--> 398\u001b[0m     \u001b[38;5;28;01mraise\u001b[39;00m \u001b[38;5;167;01mValueError\u001b[39;00m(\u001b[38;5;124mf\u001b[39m\u001b[38;5;124m\"\u001b[39m\u001b[38;5;124mInvalid RGBA argument: \u001b[39m\u001b[38;5;132;01m{\u001b[39;00morig_c\u001b[38;5;132;01m!r}\u001b[39;00m\u001b[38;5;124m\"\u001b[39m)\n\u001b[0;32m    399\u001b[0m \u001b[38;5;28;01mif\u001b[39;00m \u001b[38;5;28mlen\u001b[39m(c) \u001b[38;5;129;01mnot\u001b[39;00m \u001b[38;5;129;01min\u001b[39;00m [\u001b[38;5;241m3\u001b[39m, \u001b[38;5;241m4\u001b[39m]:\n\u001b[0;32m    400\u001b[0m     \u001b[38;5;28;01mraise\u001b[39;00m \u001b[38;5;167;01mValueError\u001b[39;00m(\u001b[38;5;124m\"\u001b[39m\u001b[38;5;124mRGBA sequence should have length 3 or 4\u001b[39m\u001b[38;5;124m\"\u001b[39m)\n",
      "\u001b[1;31mValueError\u001b[0m: Invalid RGBA argument: nan"
     ]
    },
    {
     "data": {
      "text/plain": [
       "<Figure size 3000x7000 with 0 Axes>"
      ]
     },
     "metadata": {},
     "output_type": "display_data"
    }
   ],
   "source": [
    "#creating a heatmap and clustering by proteins and samples to see if there are trends associated with sample type, sex or GA weeks\n",
    "#lut = {'EOS': sns.color_palette(\"Set3\")[3], 'Control': sns.color_palette(\"Set3\")[4], 'PS': 'g'}\n",
    "#lut = {'EOS': sns.color_palette(\"husl\", 8)[0], 'Control': sns.color_palette(\"husl\", 8)[5], 'PS': 'g'}\n",
    "lut = {'EOS': '#940043', 'Control': '#577483', 'PS': '#577483', 'PS_nonclassicEOS': '#577483'}\n",
    "fourcol= sns.cubehelix_palette(start=3, rot=-.5, as_cmap=False, n_colors=4) #start =0.5 for pleasant blue, \n",
    "lut_ga = {'<28': fourcol[0], '28- <32': fourcol[1], '32-36': fourcol[2], '>=37': fourcol[3], None:'lightpink'}\n",
    "\n",
    "lut_sex = {'Female': 'white', 'Male': 'black', None:'lightpink'}\n",
    "\n",
    "row_colors_sample = imp_clean['sample_type'].map(lut)\n",
    "row_colors_ga = imp_clean['ga_cat'].map(lut_ga)\n",
    "row_colors_sex = imp_clean['sex'].map(lut_sex)\n",
    "sns.set(font_scale=2)\n",
    "testt = sns.cubehelix_palette(start =-0.3, rot=0.5, as_cmap=True, reverse=False)#0.3 for nice purp\n",
    "\n",
    "sns.clustermap(imp_clean.iloc[:,0:-5], cmap = testt, figsize = [30,70],yticklabels = True,col_cluster = True, row_colors=[row_colors_sample,pd.Series(row_colors_sex).fillna('dimgray'),pd.Series(row_colors_ga).fillna('dimgray')])\n",
    "#plt.savefig('graphs/fig1_heatmap_imputed.eps', format = 'eps',bbox_inches = 'tight')\n",
    "plt.show()\n",
    "plt.close()"
   ]
  },
  {
   "cell_type": "code",
   "execution_count": null,
   "id": "7444778f-f9fa-488a-8b54-3bc580fb6154",
   "metadata": {},
   "outputs": [],
   "source": []
  }
 ],
 "metadata": {
  "kernelspec": {
   "display_name": "sepsis",
   "language": "python",
   "name": "sepsis"
  },
  "language_info": {
   "codemirror_mode": {
    "name": "ipython",
    "version": 3
   },
   "file_extension": ".py",
   "mimetype": "text/x-python",
   "name": "python",
   "nbconvert_exporter": "python",
   "pygments_lexer": "ipython3",
   "version": "3.12.7"
  }
 },
 "nbformat": 4,
 "nbformat_minor": 5
}
