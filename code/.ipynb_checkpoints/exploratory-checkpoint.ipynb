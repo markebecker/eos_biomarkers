{
 "cells": [
  {
   "cell_type": "code",
   "execution_count": null,
   "id": "b0a63d1b-5f96-4d2f-9d22-817c43504284",
   "metadata": {},
   "outputs": [],
   "source": [
    "# set your working directory\n",
    "import os\n",
    "os.getcwd()\n",
    "os.chdir('C:/Users/Mark/Documents/GitHub/eos_biomarkers/')"
   ]
  }
 ],
 "metadata": {
  "kernelspec": {
   "display_name": "sepsis",
   "language": "python",
   "name": "sepsis"
  },
  "language_info": {
   "codemirror_mode": {
    "name": "ipython",
    "version": 3
   },
   "file_extension": ".py",
   "mimetype": "text/x-python",
   "name": "python",
   "nbconvert_exporter": "python",
   "pygments_lexer": "ipython3",
   "version": "3.12.7"
  }
 },
 "nbformat": 4,
 "nbformat_minor": 5
}
